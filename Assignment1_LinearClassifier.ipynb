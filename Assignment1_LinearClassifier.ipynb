{
  "nbformat": 4,
  "nbformat_minor": 0,
  "metadata": {
    "colab": {
      "provenance": []
    },
    "kernelspec": {
      "name": "python3",
      "display_name": "Python 3"
    },
    "language_info": {
      "name": "python"
    }
  },
  "cells": [
    {
      "cell_type": "code",
      "source": [
        "from google.colab import drive\n",
        "drive.mount(\"/content/drive\")"
      ],
      "metadata": {
        "colab": {
          "base_uri": "https://localhost:8080/"
        },
        "id": "FHWhcID9K1Pk",
        "outputId": "9f911b4a-3b5a-4392-e855-fdcb562fef82"
      },
      "execution_count": null,
      "outputs": [
        {
          "output_type": "stream",
          "name": "stdout",
          "text": [
            "Mounted at /content/drive\n"
          ]
        }
      ]
    },
    {
      "cell_type": "code",
      "execution_count": null,
      "metadata": {
        "id": "KGZpAZuTJsCN"
      },
      "outputs": [],
      "source": [
        "import numpy as np\n",
        "import pandas as pd"
      ]
    },
    {
      "cell_type": "code",
      "source": [
        "train = pd.read_csv(\"/content/drive/MyDrive/112_1/MachineLearning/train_new.csv\", index_col=0)\n",
        "test = pd.read_csv(\"/content/drive/MyDrive/112_1/MachineLearning/test_new.csv\", index_col=0)"
      ],
      "metadata": {
        "id": "hV517fH5LBMc"
      },
      "execution_count": null,
      "outputs": []
    },
    {
      "cell_type": "code",
      "source": [
        "train0 = train[train[\"is_claim\"] == 0].sample(1000, random_state=42)\n",
        "train1 = train[train[\"is_claim\"] == 1].sample(500, random_state=42)\n",
        "train_new = pd.concat([train0, train1], ignore_index=False)\n",
        "train_new = train_new.sample(frac=1, random_state=42, ignore_index=False)"
      ],
      "metadata": {
        "id": "ht8ni8YcVThj"
      },
      "execution_count": null,
      "outputs": []
    },
    {
      "cell_type": "code",
      "source": [
        "x_train = train_new.drop([\"is_claim\"], axis=\"columns\")\n",
        "y_train = train_new[\"is_claim\"]"
      ],
      "metadata": {
        "id": "wojocYG8TIVs"
      },
      "execution_count": null,
      "outputs": []
    },
    {
      "cell_type": "code",
      "source": [
        "def split(x, y, test_size=0.2):\n",
        "    i = int((1 - test_size) * x.shape[0])\n",
        "    o = np.random.permutation(x.shape[0])\n",
        "\n",
        "    x_train, x_test = np.split(np.take(x,o,axis=0), [i])\n",
        "    y_train, y_test = np.split(np.take(y,o), [i])\n",
        "    return x_train, x_test, y_train, y_test"
      ],
      "metadata": {
        "id": "S1ZpZ8V8G8cs"
      },
      "execution_count": null,
      "outputs": []
    },
    {
      "cell_type": "code",
      "source": [
        "x_linear_train, x_linear_valid, y_linear_train, y_linear_valid = split(x_train, y_train, test_size=0.2)"
      ],
      "metadata": {
        "id": "PDJt2-vNHKA4"
      },
      "execution_count": null,
      "outputs": []
    },
    {
      "cell_type": "code",
      "source": [
        "x_linear_train = x_linear_train.values\n",
        "x_linear_valid = x_linear_valid.values\n",
        "y_linear_train = y_linear_train.values\n",
        "y_linear_valid = y_linear_valid.values"
      ],
      "metadata": {
        "id": "GPBsMPRwV8Kn"
      },
      "execution_count": null,
      "outputs": []
    },
    {
      "cell_type": "code",
      "source": [
        "import matplotlib.pyplot as plt\n",
        "import random"
      ],
      "metadata": {
        "id": "KZ5nXSiF3bo2"
      },
      "execution_count": null,
      "outputs": []
    },
    {
      "cell_type": "code",
      "source": [
        "def initialize_weights_and_bias(num_of_feature):\n",
        "    W = np.full((1, num_of_feature),0.01)\n",
        "    b = 0.0\n",
        "    return W,b\n",
        "\n",
        "def sigmoid(z):\n",
        "  z = z.astype(float)\n",
        "  y_head = 1 / (1+np.exp(-z))\n",
        "  return y_head\n",
        "\n",
        "def square_loss(y_pred, target):\n",
        "  return np.mean(pow((y_pred-target),2))"
      ],
      "metadata": {
        "id": "hYUwJcbp51oj"
      },
      "execution_count": null,
      "outputs": []
    },
    {
      "cell_type": "code",
      "source": [
        "def forward_backward_propagation(W, b, x_train, y_train):\n",
        "    y = np.dot(W, x_train.T) + b\n",
        "    y_head = sigmoid(y)\n",
        "    loss = (y_train*np.log(y_head))+((1-y_train)*np.log(1-y_head))\n",
        "    cost = (np.sum(loss)) / (-x_train.shape[0])\n",
        "\n",
        "    #Backward Propogation\n",
        "    derivative_weight = (np.dot((y_head-y_train),(x_train)))/x_train.shape[0]\n",
        "    derivative_bias = np.sum(y_head-y_train)/x_train.shape[0]\n",
        "    gradients = {\"derivative_weight\": derivative_weight,\"derivative_bias\": derivative_bias}\n",
        "    return cost, gradients"
      ],
      "metadata": {
        "id": "8nXix6T1954d"
      },
      "execution_count": null,
      "outputs": []
    },
    {
      "cell_type": "code",
      "source": [
        "def train(W, b, x_train, y_train, learning_rate, num_of_iterarion):\n",
        "    cost_list = []\n",
        "    index = []\n",
        "    for i in range(num_of_iterarion):\n",
        "        cost, gradients = forward_backward_propagation(W, b, x_train, y_train)\n",
        "        cost_list.append(cost)\n",
        "        index.append(i)\n",
        "        W = W - learning_rate * gradients[\"derivative_weight\"]\n",
        "        b = b - learning_rate * gradients[\"derivative_bias\"]\n",
        "        if i % 10 == 0:\n",
        "            print (\"Cost after iteration %i: %f\" %(i, cost))\n",
        "    parameters = {\"Weight\": W,\"Bias\": b}\n",
        "    plt.plot(index,cost_list)\n",
        "    plt.xticks(index, rotation='vertical')\n",
        "    plt.xlabel(\"Number of Iteration\")\n",
        "    plt.ylabel(\"Cost\")\n",
        "    plt.show()\n",
        "    return parameters, gradients, cost_list"
      ],
      "metadata": {
        "id": "wySp41Hb-1I4"
      },
      "execution_count": null,
      "outputs": []
    },
    {
      "cell_type": "code",
      "source": [
        "def predict(W, b, x_test):\n",
        "    y = sigmoid(np.dot(W, x_test.T)+b)\n",
        "    y_pred = np.zeros((1, x_test.shape[0]))\n",
        "\n",
        "    for i in range(y.shape[0]):\n",
        "        if y[0,i]< 0.5:\n",
        "            y_pred[0,i] = 0\n",
        "        else:\n",
        "            y_pred[0,i] = 1\n",
        "\n",
        "    return y_pred"
      ],
      "metadata": {
        "id": "x5QpMBD8AEGK"
      },
      "execution_count": null,
      "outputs": []
    },
    {
      "cell_type": "code",
      "source": [
        "def logistic_regression(x_train, y_train, x_test, y_test, learning_rate , num_iterations):\n",
        "    dimension = x_train.shape[0]\n",
        "    num_of_feature =  x_train.shape[1]\n",
        "\n",
        "    W,b = initialize_weights_and_bias(num_of_feature)\n",
        "\n",
        "    parameters, gradients, cost_list = train(W, b, x_train, y_train, learning_rate, num_iterations)\n",
        "\n",
        "    y_pred_test = predict(parameters[\"Weight\"], parameters[\"Bias\"], x_test)\n",
        "\n",
        "    accuracy = 0\n",
        "    for i in range(y_test.shape[0]):\n",
        "      if y_test[i] == y_pred_test[0][i]:\n",
        "        accuracy = accuracy + 1\n",
        "    accuracy = (accuracy/y_test.shape[0])*100\n",
        "\n",
        "    print(\"Test Accuracy = \",accuracy, \"%\")"
      ],
      "metadata": {
        "id": "Gws0uVGcAs6V"
      },
      "execution_count": null,
      "outputs": []
    },
    {
      "cell_type": "code",
      "source": [
        "logistic_regression(x_linear_train, y_linear_train, x_linear_valid, y_linear_valid,learning_rate = 0.001, num_iterations = 100)"
      ],
      "metadata": {
        "colab": {
          "base_uri": "https://localhost:8080/",
          "height": 742
        },
        "id": "mUtfu8_k1Q1F",
        "outputId": "22c2934b-9a00-48df-cf1e-00d0182847fb"
      },
      "execution_count": null,
      "outputs": [
        {
          "output_type": "stream",
          "name": "stderr",
          "text": [
            "<ipython-input-11-1bb6c32eb50e>:4: RuntimeWarning: divide by zero encountered in log\n",
            "  loss = (y_train*np.log(y_head))+((1-y_train)*np.log(1-y_head))\n",
            "<ipython-input-11-1bb6c32eb50e>:4: RuntimeWarning: invalid value encountered in multiply\n",
            "  loss = (y_train*np.log(y_head))+((1-y_train)*np.log(1-y_head))\n",
            "<ipython-input-10-5e602181ccdd>:8: RuntimeWarning: overflow encountered in exp\n",
            "  y_head = 1 / (1+np.exp(-z))\n"
          ]
        },
        {
          "output_type": "stream",
          "name": "stdout",
          "text": [
            "Cost after iteration 0: nan\n",
            "Cost after iteration 10: nan\n",
            "Cost after iteration 20: nan\n",
            "Cost after iteration 30: nan\n",
            "Cost after iteration 40: nan\n",
            "Cost after iteration 50: nan\n",
            "Cost after iteration 60: nan\n",
            "Cost after iteration 70: nan\n",
            "Cost after iteration 80: nan\n",
            "Cost after iteration 90: nan\n"
          ]
        },
        {
          "output_type": "display_data",
          "data": {
            "text/plain": [
              "<Figure size 640x480 with 1 Axes>"
            ],
            "image/png": "[encoded data removed]"
          },
          "metadata": {}
        },
        {
          "output_type": "stream",
          "name": "stdout",
          "text": [
            "Test Accuracy =  61.66666666666667 %\n"
          ]
        }
      ]
    }
  ]
}