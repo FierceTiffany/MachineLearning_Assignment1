{
  "nbformat": 4,
  "nbformat_minor": 0,
  "metadata": {
    "colab": {
      "provenance": []
    },
    "kernelspec": {
      "name": "python3",
      "display_name": "Python 3"
    },
    "language_info": {
      "name": "python"
    }
  },
  "cells": [
    {
      "cell_type": "code",
      "source": [
        "from google.colab import drive\n",
        "drive.mount(\"/content/drive\")"
      ],
      "metadata": {
        "colab": {
          "base_uri": "https://localhost:8080/"
        },
        "id": "MzOeO-7wVhAU",
        "outputId": "64ddbf49-13d7-4e82-c5ba-74dc68aae0c1"
      },
      "execution_count": null,
      "outputs": [
        {
          "output_type": "stream",
          "name": "stdout",
          "text": [
            "Drive already mounted at /content/drive; to attempt to forcibly remount, call drive.mount(\"/content/drive\", force_remount=True).\n"
          ]
        }
      ]
    },
    {
      "cell_type": "code",
      "source": [
        "import pandas as pd\n",
        "import numpy as np\n",
        "import matplotlib.pyplot as plt\n",
        "import random\n",
        "import math\n",
        "from collections import Counter"
      ],
      "metadata": {
        "id": "fADXEWfnVJWF"
      },
      "execution_count": null,
      "outputs": []
    },
    {
      "cell_type": "code",
      "source": [
        "train = pd.read_csv(\"/content/drive/MyDrive/112_1/MachineLearning/train_new.csv\", index_col=0)\n",
        "test = pd.read_csv(\"/content/drive/MyDrive/112_1/MachineLearning/test_new.csv\", index_col=0)"
      ],
      "metadata": {
        "id": "P07Rp0vBaKD6"
      },
      "execution_count": null,
      "outputs": []
    },
    {
      "cell_type": "code",
      "source": [
        "train0 = train[train[\"is_claim\"] == 0].sample(1000, random_state=42)\n",
        "train1 = train[train[\"is_claim\"] == 1].sample(500, random_state=42)\n",
        "train_new = pd.concat([train0, train1], ignore_index=False)\n",
        "train_new = train_new.sample(frac=1, random_state=42, ignore_index=False)"
      ],
      "metadata": {
        "id": "KxR9yw69k_xP"
      },
      "execution_count": null,
      "outputs": []
    },
    {
      "cell_type": "code",
      "source": [
        "x_train = train_new.drop([\"is_claim\"], axis=\"columns\")\n",
        "y_train = train_new[\"is_claim\"]"
      ],
      "metadata": {
        "id": "WQWzXbuIaQAa"
      },
      "execution_count": null,
      "outputs": []
    },
    {
      "cell_type": "code",
      "source": [
        "def split(x, y, test_size=0.2):\n",
        "    i = int((1 - test_size) * x.shape[0])\n",
        "    o = np.random.permutation(x.shape[0])\n",
        "\n",
        "    x_train, x_test = np.split(np.take(x,o,axis=0), [i])\n",
        "    y_train, y_test = np.split(np.take(y,o), [i])\n",
        "    return x_train, x_test, y_train, y_test"
      ],
      "metadata": {
        "id": "d7VWbr6OwCw9"
      },
      "execution_count": null,
      "outputs": []
    },
    {
      "cell_type": "code",
      "source": [
        "x_knn_train, x_knn_valid, y_knn_train, y_knn_valid = split(x_train, y_train, test_size=0.2)"
      ],
      "metadata": {
        "id": "4pyZ2s-KwGHy"
      },
      "execution_count": null,
      "outputs": []
    },
    {
      "cell_type": "code",
      "source": [
        "x_knn_train = np.array(x_knn_train)\n",
        "x_knn_valid = np.array(x_knn_valid)\n",
        "y_knn_train = np.array(y_knn_train)\n",
        "y_knn_valid = np.array(y_knn_valid)"
      ],
      "metadata": {
        "id": "WrovTFxmd3kp"
      },
      "execution_count": null,
      "outputs": []
    },
    {
      "cell_type": "code",
      "source": [
        "def euclidean_distance(p, q):\n",
        "  temp = (p - q)**2\n",
        "  euclidean_distance=np.sqrt(temp)\n",
        "  return euclidean_distance\n",
        "\n",
        "def manhattan_distance(p, q):\n",
        "  manhattan_distance = np.sum(np.abs(p-q))\n",
        "  return manhattan_distance\n",
        "\n",
        "def chebyshev_distance(p, q):\n",
        "  chebyshev_distance = np.max(np.abs(p-q))\n",
        "  return chebyshev_distance"
      ],
      "metadata": {
        "id": "cPo2uzCxdzgc"
      },
      "execution_count": null,
      "outputs": []
    },
    {
      "cell_type": "code",
      "source": [
        "class KNN_euclidian:\n",
        "    def __init__(self, k=3):\n",
        "        self.k = k\n",
        "\n",
        "    def fit(self, X_train, y_train):\n",
        "        self.X_train = X_train\n",
        "        self.y_train = y_train\n",
        "\n",
        "    def predict(self, X_test):\n",
        "        predictions = [self._predict(x) for x in X_test]\n",
        "        return np.array(predictions)\n",
        "\n",
        "    def _predict(self, x):\n",
        "        # Calculate distances between x and all examples in the training set\n",
        "        distances = [self.euclidean_distance(x, x_train) for x_train in self.X_train]\n",
        "\n",
        "        # Get indices of k-nearest training data points\n",
        "        k_neighbors_indices = np.argsort(distances)[:self.k]\n",
        "\n",
        "        # Get the labels of the k-nearest training data points\n",
        "        k_neighbor_labels = [self.y_train[i] for i in k_neighbors_indices]\n",
        "\n",
        "        # Perform majority voting to find the most common class label\n",
        "        most_common = np.bincount(k_neighbor_labels).argmax()\n",
        "        return most_common\n",
        "\n",
        "    def euclidean_distance(self, p, q):\n",
        "        temp = (p - q)**2\n",
        "        euclidean_distance = np.sqrt(temp.sum())\n",
        "        return euclidean_distance"
      ],
      "metadata": {
        "id": "z9SwOgk5zcot"
      },
      "execution_count": null,
      "outputs": []
    },
    {
      "cell_type": "code",
      "source": [
        "def accuracy(y_true, y_pred):\n",
        "  accuracy = 0\n",
        "  for i in range(y_true.shape[0]):\n",
        "      if y_true[i] == y_pred[i]:\n",
        "        accuracy = accuracy + 1\n",
        "  accuracy = (accuracy/y_true.shape[0])*100\n",
        "  print(\"Test Accuracy = \",accuracy, \"%\")"
      ],
      "metadata": {
        "id": "V3ip1TXvbjhs"
      },
      "execution_count": null,
      "outputs": []
    },
    {
      "cell_type": "code",
      "source": [
        "knn_euclidian = KNN_euclidian(k=3)\n",
        "knn_euclidian.fit(x_knn_train, y_knn_train)\n",
        "y_knn_pred = knn_euclidian.predict(x_knn_valid)"
      ],
      "metadata": {
        "id": "eqe6KfbPasGw"
      },
      "execution_count": null,
      "outputs": []
    },
    {
      "cell_type": "code",
      "source": [
        "accuracy(y_knn_valid, y_knn_pred)"
      ],
      "metadata": {
        "colab": {
          "base_uri": "https://localhost:8080/"
        },
        "id": "VL2u33JFcLr3",
        "outputId": "f731f5c7-92e6-419b-a0ec-439447835ec8"
      },
      "execution_count": null,
      "outputs": [
        {
          "output_type": "stream",
          "name": "stdout",
          "text": [
            "Test Accuracy =  61.66666666666667 %\n"
          ]
        }
      ]
    },
    {
      "cell_type": "code",
      "source": [
        "class KNN_manhattan:\n",
        "    def __init__(self, k=3):\n",
        "        self.k = k\n",
        "\n",
        "    def fit(self, X_train, y_train):\n",
        "        self.X_train = X_train\n",
        "        self.y_train = y_train\n",
        "\n",
        "    def predict(self, X_test):\n",
        "        predictions = [self._predict(x) for x in X_test]\n",
        "        return np.array(predictions)\n",
        "\n",
        "    def _predict(self, x):\n",
        "        # Calculate distances between x and all examples in the training set\n",
        "        distances = [self.manhattan_distance(x, x_train) for x_train in self.X_train]\n",
        "\n",
        "        # Get indices of k-nearest training data points\n",
        "        k_neighbors_indices = np.argsort(distances)[:self.k]\n",
        "\n",
        "        # Get the labels of the k-nearest training data points\n",
        "        k_neighbor_labels = [self.y_train[i] for i in k_neighbors_indices]\n",
        "\n",
        "        # Perform majority voting to find the most common class label\n",
        "        most_common = np.bincount(k_neighbor_labels).argmax()\n",
        "        return most_common\n",
        "\n",
        "    def manhattan_distance(self, p, q):\n",
        "      manhattan_distance = np.sum(np.abs(p-q))\n",
        "      return manhattan_distance"
      ],
      "metadata": {
        "id": "9svbHYnEgMhP"
      },
      "execution_count": null,
      "outputs": []
    },
    {
      "cell_type": "code",
      "source": [
        "knn_manhattan = KNN_manhattan(k=3)\n",
        "knn_manhattan.fit(x_knn_train, y_knn_train)\n",
        "y_knn_pred = knn_manhattan.predict(x_knn_valid)"
      ],
      "metadata": {
        "id": "XAlbFS6YgMlp"
      },
      "execution_count": null,
      "outputs": []
    },
    {
      "cell_type": "code",
      "source": [
        "accuracy(y_knn_valid, y_knn_pred)"
      ],
      "metadata": {
        "colab": {
          "base_uri": "https://localhost:8080/"
        },
        "id": "vgevRLXmgMtA",
        "outputId": "950b2c26-8bc5-4020-fc35-f992aabbb019"
      },
      "execution_count": null,
      "outputs": [
        {
          "output_type": "stream",
          "name": "stdout",
          "text": [
            "Test Accuracy =  61.33333333333333 %\n"
          ]
        }
      ]
    },
    {
      "cell_type": "code",
      "source": [
        "class KNN_chebyshev:\n",
        "    def __init__(self, k=3):\n",
        "        self.k = k\n",
        "\n",
        "    def fit(self, X_train, y_train):\n",
        "        self.X_train = X_train\n",
        "        self.y_train = y_train\n",
        "\n",
        "    def predict(self, X_test):\n",
        "        predictions = [self._predict(x) for x in X_test]\n",
        "        return np.array(predictions)\n",
        "\n",
        "    def _predict(self, x):\n",
        "        # Calculate distances between x and all examples in the training set\n",
        "        distances = [self.chebyshev_distance(x, x_train) for x_train in self.X_train]\n",
        "\n",
        "        # Get indices of k-nearest training data points\n",
        "        k_neighbors_indices = np.argsort(distances)[:self.k]\n",
        "\n",
        "        # Get the labels of the k-nearest training data points\n",
        "        k_neighbor_labels = [self.y_train[i] for i in k_neighbors_indices]\n",
        "\n",
        "        # Perform majority voting to find the most common class label\n",
        "        most_common = np.bincount(k_neighbor_labels).argmax()\n",
        "        return most_common\n",
        "\n",
        "    def chebyshev_distance(self, p, q):\n",
        "      chebyshev_distance = np.max(np.abs(p-q))\n",
        "      return chebyshev_distance"
      ],
      "metadata": {
        "id": "WupwNlYpgMyL"
      },
      "execution_count": null,
      "outputs": []
    },
    {
      "cell_type": "code",
      "source": [
        "knn_chebyshev = KNN_chebyshev(k=3)\n",
        "knn_chebyshev.fit(x_knn_train, y_knn_train)\n",
        "y_knn_pred = knn_chebyshev.predict(x_knn_valid)"
      ],
      "metadata": {
        "id": "HFvyz9iQgM3W"
      },
      "execution_count": null,
      "outputs": []
    },
    {
      "cell_type": "code",
      "source": [
        "accuracy(y_knn_valid, y_knn_pred)"
      ],
      "metadata": {
        "colab": {
          "base_uri": "https://localhost:8080/"
        },
        "id": "fegcShiFgM8D",
        "outputId": "fefb61c4-4dbd-41fe-c256-dc9a74061b61"
      },
      "execution_count": null,
      "outputs": [
        {
          "output_type": "stream",
          "name": "stdout",
          "text": [
            "Test Accuracy =  58.333333333333336 %\n"
          ]
        }
      ]
    }
  ]
}